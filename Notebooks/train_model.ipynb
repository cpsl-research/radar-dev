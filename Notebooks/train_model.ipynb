{
 "cells": [
  {
   "cell_type": "code",
   "execution_count": 10,
   "metadata": {},
   "outputs": [
    {
     "name": "stdout",
     "output_type": "stream",
     "text": [
      "Jupyter environment detected. Enabling Open3D WebVisualizer.\n",
      "[Open3D INFO] WebRTC GUI backend enabled.\n",
      "[Open3D INFO] WebRTCWindowSystem: HTTP handshake server disabled.\n"
     ]
    }
   ],
   "source": [
    "\n",
    "# xiao, this package can not import \n",
    "\n",
    "# from CPSL_Radar_UNET_Pytorch.Model import unet\n",
    "# from CPSL_Radar_UNET_Pytorch.Model_Trainer import ModelTrainer\n",
    "\n",
    "# these two lines are important to import correctly\n",
    "import os\n",
    "os.chdir(\"..\")\n",
    "\n",
    "from CPSL_Radar.models.unet import unet\n",
    "from CPSL_Radar.trainer import ModelTrainer\n",
    "\n",
    "from torchvision import transforms\n",
    "from torch.nn import BCEWithLogitsLoss"
   ]
  },
  {
   "cell_type": "code",
   "execution_count": null,
   "metadata": {},
   "outputs": [],
   "source": [
    "#initialize the unet\n",
    "unet_model = unet(\n",
    "    encoder_input_channels= 3,\n",
    "    encoder_out_channels= (32,64,128,256,512),\n",
    "    decoder_input_channels= (1024,512,256,128,64),\n",
    "    decoder_out_channels= 32,\n",
    "    output_channels= 1,\n",
    "    retain_dimmension= False,\n",
    "    input_dimmensions= (128,128)\n",
    ")\n",
    "\n",
    "#initialize the transforms to use\n",
    "unet_transforms = [\n",
    "    transforms.ToTensor(),\n",
    "    transforms.Resize((128,128))\n",
    "]"
   ]
  },
  {
   "cell_type": "code",
   "execution_count": null,
   "metadata": {},
   "outputs": [],
   "source": [
    "#initialize the model training\n",
    "model_trainer = ModelTrainer(\n",
    "    model= unet_model,\n",
    "    dataset_path= \"/data/david/DeepSense6G/scenario36/generated_dataset/\",\n",
    "    input_directory=\"radar\",\n",
    "    output_directory=\"lidar\",\n",
    "    test_split= 0.15,\n",
    "    working_dir=\"working_dir\",\n",
    "    transforms_to_apply=unet_transforms,\n",
    "    batch_size= 32,\n",
    "    epochs=120,\n",
    "    learning_rate=0.001,\n",
    "    loss_fn= BCEWithLogitsLoss()\n",
    ")"
   ]
  },
  {
   "cell_type": "code",
   "execution_count": null,
   "metadata": {},
   "outputs": [],
   "source": [
    "#train the model\n",
    "model_trainer.train_model()"
   ]
  }
 ],
 "metadata": {
  "kernelspec": {
   "display_name": ".venv",
   "language": "python",
   "name": "python3"
  },
  "language_info": {
   "codemirror_mode": {
    "name": "ipython",
    "version": 3
   },
   "file_extension": ".py",
   "mimetype": "text/x-python",
   "name": "python",
   "nbconvert_exporter": "python",
   "pygments_lexer": "ipython3",
   "version": "3.8.17"
  },
  "orig_nbformat": 4
 },
 "nbformat": 4,
 "nbformat_minor": 2
}
