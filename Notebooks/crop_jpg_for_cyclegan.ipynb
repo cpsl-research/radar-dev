{
 "cells": [
  {
   "cell_type": "markdown",
   "metadata": {},
   "source": [
    "Read jpg images and save into radar_jpg and lidar_jpg"
   ]
  },
  {
   "cell_type": "code",
   "execution_count": 1,
   "metadata": {},
   "outputs": [
    {
     "name": "stdout",
     "output_type": "stream",
     "text": [
      "successfully crop!\n"
     ]
    }
   ],
   "source": [
    "from PIL import Image\n",
    "\n",
    "left_r = 126\n",
    "upper_r = 555\n",
    "right_r = 478\n",
    "lower_r = 891\n",
    "\n",
    "left_l = 547\n",
    "upper_l = 555\n",
    "right_l = 901\n",
    "lower_l = 891\n",
    "\n",
    "# image = Image.open(\"image-process/18.png\")\n",
    "# image = image.convert('RGB')\n",
    "# cropped_image = image.crop((left, upper, right, lower))\n",
    "# cropped_image.save(\"image-process/18.jpg\")\n",
    "\n",
    "for i in range(1, 4080):\n",
    "    input_path = f\"/data/david/CPSL_Ground/train/before_crop/frame_{i}.jpg\"\n",
    "    output_radar_path = f\"/data/david/CPSL_Ground/train/radar/frame_{i}.jpg\"\n",
    "    output_lidar_path = f\"/data/david/CPSL_Ground/train/lidar/frame_{i}.jpg\"\n",
    "\n",
    "    # open original image\n",
    "    image = Image.open(input_path)\n",
    "    # image = image.convert('RGB')\n",
    "    # set crop area\n",
    "    cropped_image_radar = image.crop((left_r, upper_r, right_r, lower_r))\n",
    "    cropped_image_lidar = image.crop((left_l, upper_l, right_l, lower_l))\n",
    "\n",
    "    # save croped images\n",
    "    cropped_image_radar.save(output_radar_path)\n",
    "    cropped_image_lidar.save(output_lidar_path)\n",
    "print(\"successfully crop!\")"
   ]
  }
 ],
 "metadata": {
  "kernelspec": {
   "display_name": "radar-dev",
   "language": "python",
   "name": "python3"
  },
  "language_info": {
   "codemirror_mode": {
    "name": "ipython",
    "version": 3
   },
   "file_extension": ".py",
   "mimetype": "text/x-python",
   "name": "python",
   "nbconvert_exporter": "python",
   "pygments_lexer": "ipython3",
   "version": "3.8.17"
  },
  "orig_nbformat": 4
 },
 "nbformat": 4,
 "nbformat_minor": 2
}
