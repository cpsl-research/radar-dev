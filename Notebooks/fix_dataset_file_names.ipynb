{
 "cells": [
  {
   "cell_type": "code",
   "execution_count": 12,
   "metadata": {},
   "outputs": [],
   "source": [
    "import os\n",
    "\n",
    "folder_path = \"/data/david/CPSL_Ground/recorded_datasets/\"\n",
    "scenario_path = \"08_21_23_10Hz_scene3\"\n",
    "sensor_folder = \"lidar\"\n",
    "\n",
    "wrong_format = False\n",
    "#check to make sure that the files are actually in the wrong format first\n",
    "for file in sorted(os.listdir(os.path.join(folder_path,scenario_path,sensor_folder))):\n",
    "\n",
    "    number = file.split(\"_\")[1]\n",
    "    number = int(number.split(\".\")[0])\n",
    "\n",
    "    if number < 10000: \n",
    "        wrong_format = True\n",
    "\n",
    "if wrong_format:\n",
    "    print(\"Fixing formatting\")\n",
    "    for file in sorted(os.listdir(os.path.join(folder_path,scenario_path,sensor_folder))):\n",
    "\n",
    "        number = file.split(\"_\")[1]\n",
    "        number = int(number.split(\".\")[0])\n",
    "\n",
    "        new_name = \"frame_{}.npy\".format(number + 10000)\n",
    "        os.rename(\n",
    "            src=os.path.join(folder_path,scenario_path,sensor_folder,file),\n",
    "            dst=os.path.join(folder_path,scenario_path,sensor_folder,new_name)\n",
    "        )\n",
    "else:\n",
    "    print(\"already in correct format\")"
   ]
  }
 ],
 "metadata": {
  "kernelspec": {
   "display_name": "radar-dev",
   "language": "python",
   "name": "python3"
  },
  "language_info": {
   "codemirror_mode": {
    "name": "ipython",
    "version": 3
   },
   "file_extension": ".py",
   "mimetype": "text/x-python",
   "name": "python",
   "nbconvert_exporter": "python",
   "pygments_lexer": "ipython3",
   "version": "3.8.17"
  },
  "orig_nbformat": 4
 },
 "nbformat": 4,
 "nbformat_minor": 2
}
