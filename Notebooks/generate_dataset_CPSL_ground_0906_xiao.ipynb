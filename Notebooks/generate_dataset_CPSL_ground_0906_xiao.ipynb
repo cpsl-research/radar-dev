{
 "cells": [
  {
   "cell_type": "markdown",
   "metadata": {},
   "source": [
    "# CPSL Ground Vehicle Dataset Generation"
   ]
  },
  {
   "cell_type": "code",
   "execution_count": null,
   "metadata": {},
   "outputs": [],
   "source": [
    "import os\n",
    "os.chdir(\"..\")\n",
    "import numpy as np\n",
    "import pandas as pd\n",
    "import matplotlib.pyplot as plt\n",
    "\n",
    "#import CPSL Radar Dataset Generator Code\n",
    "from CPSL_Radar.datasets.Dataset_Generator import DatasetGenerator\n",
    "\n",
    "#Wilkenson dataset folders\n",
    "wilkenson_folder = \"/data/david/CPSL_Ground/wilkenson_datasets/\"\n",
    "\n",
    "# scenario_folders = sorted(os.listdir(dataset_folder))\n",
    "train_scenarios = [\"lab_1\",\"scene_2\",\"4th_hallway_slow\",\"1st_hallway_slow\",\"4th_hallway_slow_1\"]\n",
    "\n",
    "test_scenarios = [\"1st_hallway_slow_1\",\"1st_hallway_fast\",\"1st_hallway_fast_spin\",\"4th_hallway_fast\",\"4th_hallway_fast_spin\"]\n",
    "\n",
    "train_scenarios = [os.path.join(wilkenson_folder,scenario_folder) for\n",
    "                   scenario_folder in train_scenarios]\n",
    "test_scenarios = [os.path.join(wilkenson_folder,scenario_folder) for\n",
    "                   scenario_folder in [test_scenarios[1], test_scenarios[3]]]\n",
    "\n",
    "#box_dataset_folders\n",
    "box_folder = \"/data/david/CPSL_Ground/box_datasets/\"\n",
    "\n",
    "box_train_scenarios = [\"08_21_23_10Hz_scene2\",\"08_21_23_10Hz_scene3\",\"08_21_23_10Hz_scene4_slow\",\"08_21_23_10Hz_scene5_medium\"]\n",
    "\n",
    "train_scenarios.extend(\n",
    "    [os.path.join(box_folder,scenario_folder) for\n",
    "     scenario_folder in box_train_scenarios]\n",
    ")\n",
    "\n",
    "box_test_scenarios = [\"08_21_23_10Hz_scene6_faster\"]\n",
    "\n",
    "\n",
    "scenarios_to_use = train_scenarios\n",
    "\n",
    "#location that we wish to save the dataset to\n",
    "generated_dataset_path = \"/data/david/CPSL_Ground/train/\"\n",
    "\n",
    "#specifying the names for the files\n",
    "generated_file_name = \"frame\"\n",
    "radar_data_folder = \"radar\"\n",
    "lidar_data_folder = \"lidar\"\n",
    "\n",
    "#basic dataset settings\n",
    "num_chirps_to_save = 3\n",
    "num_previous_frames = 0"
   ]
  },
  {
   "cell_type": "code",
   "execution_count": null,
   "metadata": {},
   "outputs": [],
   "source": [
    "#initialize the DatasetGenerator\n",
    "dataset_generator = DatasetGenerator()\n",
    "\n",
    "dataset_generator.config_generated_dataset_paths(\n",
    "    generated_dataset_path=generated_dataset_path,\n",
    "    generated_file_name=generated_file_name,\n",
    "    generated_radar_data_folder=radar_data_folder,\n",
    "    generated_lidar_data_folder=lidar_data_folder,\n",
    "    clear_existing_data=True\n",
    ")\n",
    "\n",
    "dataset_generator.config_radar_lidar_data_paths(\n",
    "    scenario_folder= scenarios_to_use[0],\n",
    "    radar_data_folder=radar_data_folder,\n",
    "    lidar_data_folder=lidar_data_folder\n",
    ")"
   ]
  },
  {
   "cell_type": "code",
   "execution_count": null,
   "metadata": {},
   "outputs": [],
   "source": [
    "#configure the radar data processor\n",
    "dataset_generator.config_radar_data_processor(\n",
    "    max_range_bin=64,\n",
    "    num_chirps_to_save=num_chirps_to_save,\n",
    "    num_previous_frames=num_previous_frames,\n",
    "    radar_fov= [-0.87, 0.87], #+/- 50 degrees\n",
    "    num_angle_bins=64,\n",
    "    power_range_dB=[60,105],\n",
    "    chirps_per_frame= 64,\n",
    "    rx_channels = 4,\n",
    "    tx_channels = 1,\n",
    "    samples_per_chirp = 64,\n",
    "    adc_sample_rate_Hz = 2e6,\n",
    "    chirp_slope_MHz_us= 35,\n",
    "    start_freq_Hz=77e9,\n",
    "    idle_time_us = 100,\n",
    "    ramp_end_time_us = 100\n",
    ")\n",
    "\n",
    "#configure the lidar data processor\n",
    "dataset_generator.config_lidar_data_processor(\n",
    "    max_range_m=8.56,\n",
    "    num_range_bins=64,\n",
    "    angle_range_rad=[-np.pi/2 - 0.87,-np.pi/2 + 0.87], #[-np.pi /2 , np.pi /2],\n",
    "    num_angle_bins=48,\n",
    "    num_previous_frames=num_previous_frames\n",
    ")"
   ]
  },
  {
   "cell_type": "markdown",
   "metadata": {},
   "source": [
    "## Preview the generated dataset"
   ]
  },
  {
   "cell_type": "code",
   "execution_count": null,
   "metadata": {},
   "outputs": [],
   "source": [
    "#plot the radar and lidar data for visualization\n",
    "dataset_generator.plot_radar_lidar_data(sample_idx=10)"
   ]
  },
  {
   "cell_type": "markdown",
   "metadata": {},
   "source": [
    "Successfully save the ploted figures into jpg type."
   ]
  },
  {
   "cell_type": "markdown",
   "metadata": {},
   "source": [
    "Xiao: get 2000 images as CycleGAN datasets\n",
    "\n"
   ]
  },
  {
   "cell_type": "code",
   "execution_count": null,
   "metadata": {},
   "outputs": [],
   "source": [
    "#plot the radar and lidar data for visualization\n",
    "\n",
    "for i in range (1,2000):\n",
    "    dataset_generator.plot_radar_lidar_data(sample_idx=i)"
   ]
  },
  {
   "cell_type": "markdown",
   "metadata": {},
   "source": [
    "## Use this code to generate a dataset for all of the scenarios"
   ]
  },
  {
   "cell_type": "code",
   "execution_count": null,
   "metadata": {},
   "outputs": [],
   "source": [
    "#USE ONLY IF GENERTATING A SINGLE DATASET\n",
    "# dataset_generator.generate_dataset(clear_contents=True)\n",
    "\n",
    "#USE THIS ONE FOR NOW\n",
    "dataset_generator.generate_dataset_from_multiple_scenarios(\n",
    "    scenario_folders = scenarios_to_use,\n",
    "    radar_data_folder= radar_data_folder,\n",
    "    lidar_data_folder=lidar_data_folder\n",
    ")"
   ]
  },
  {
   "cell_type": "markdown",
   "metadata": {},
   "source": [
    "## View the generated dataset"
   ]
  },
  {
   "cell_type": "code",
   "execution_count": null,
   "metadata": {},
   "outputs": [],
   "source": [
    "#view the generated data\n",
    "dataset_generator.plot_saved_radar_lidar_data(sample_idx=1)\n"
   ]
  },
  {
   "cell_type": "markdown",
   "metadata": {},
   "source": [
    "save the loaded saved npy file into jpeg type."
   ]
  },
  {
   "cell_type": "code",
   "execution_count": null,
   "metadata": {},
   "outputs": [],
   "source": [
    "dataset_generator.plot_saved_radar_lidar_data(sample_idx=1)"
   ]
  }
 ],
 "metadata": {
  "kernelspec": {
   "display_name": "TI_Radar_GUI",
   "language": "python",
   "name": "python3"
  },
  "language_info": {
   "codemirror_mode": {
    "name": "ipython",
    "version": 3
   },
   "file_extension": ".py",
   "mimetype": "text/x-python",
   "name": "python",
   "nbconvert_exporter": "python",
   "pygments_lexer": "ipython3",
   "version": "3.8.17"
  },
  "orig_nbformat": 4
 },
 "nbformat": 4,
 "nbformat_minor": 2
}
