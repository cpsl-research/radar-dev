{
 "cells": [
  {
   "cell_type": "code",
   "execution_count": 1,
   "metadata": {},
   "outputs": [],
   "source": [
    "from CPSL_Radar_UNET_Pytorch.Viewer import Viewer\n",
    "from torchvision import transforms"
   ]
  },
  {
   "cell_type": "code",
   "execution_count": 2,
   "metadata": {},
   "outputs": [],
   "source": [
    "#initialize the transforms\n",
    "unet_transforms = [\n",
    "    transforms.ToTensor(),\n",
    "    transforms.Resize((128,128))\n",
    "]\n",
    "\n",
    "#initialize the viewer\n",
    "result_viewer = Viewer(\n",
    "    dataset_path= \"/data/DeepSense6G/moving_scenarios/scenario36/generated_dataset/\",\n",
    "    transforms_to_apply= unet_transforms,\n",
    "    input_directory=\"radar\",\n",
    "    output_directory=\"lidar\",\n",
    "    sample_file_name=\"frame\",\n",
    "    working_dir=\"working_dir\",\n",
    "    model_file_name=\"trained.pth\"\n",
    ")"
   ]
  },
  {
   "cell_type": "code",
   "execution_count": null,
   "metadata": {},
   "outputs": [],
   "source": [
    "#show the results for a given sample\n",
    "result_viewer.view_result(sample_idx=1)"
   ]
  }
 ],
 "metadata": {
  "kernelspec": {
   "display_name": ".venv",
   "language": "python",
   "name": "python3"
  },
  "language_info": {
   "codemirror_mode": {
    "name": "ipython",
    "version": 3
   },
   "file_extension": ".py",
   "mimetype": "text/x-python",
   "name": "python",
   "nbconvert_exporter": "python",
   "pygments_lexer": "ipython3",
   "version": "3.8.10"
  },
  "orig_nbformat": 4
 },
 "nbformat": 4,
 "nbformat_minor": 2
}
