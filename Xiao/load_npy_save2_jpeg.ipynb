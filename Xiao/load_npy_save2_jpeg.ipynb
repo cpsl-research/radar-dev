{
 "cells": [
  {
   "cell_type": "markdown",
   "metadata": {},
   "source": [
    "author: Xiao 0830\n",
    "\n",
    "goal: load the generated .npy files for lidar and radar, then save them as jpeg versions."
   ]
  },
  {
   "cell_type": "code",
   "execution_count": null,
   "metadata": {},
   "outputs": [],
   "source": [
    "# import numpy as np\n",
    "# import cv2\n",
    "\n",
    "# image_data = np.load(\"/data/david/CPSL_Ground/wilkenson_datasets/1st_hallway_slow/lidar/frame_\" + '10752' + '.npy')\n",
    "\n",
    "# output_path = './outputImg.jpg'\n",
    "# cv2.imwrite(output_path, image_data)\n",
    "\n",
    "# print(\"JPEG image is saved.\")\n",
    "\n",
    "# the saved images are not correct"
   ]
  },
  {
   "cell_type": "code",
   "execution_count": 3,
   "metadata": {},
   "outputs": [],
   "source": [
    "import numpy as np\n",
    "import os\n",
    "import matplotlib.pyplot as plt\n",
    "\n",
    "# locations that the npy files for lidar and radar\n",
    "\n",
    "dataset_folder = \"/data/david/CPSL_Ground/wilkenson_datasets/1st_hallway_slow/\"\n",
    "converted_jpeg_folder = \"./images/\"\n",
    "file_name = \"frame\"\n",
    "\n",
    "radar_data_folder = \"radar\"\n",
    "lidar_data_folder = \"lidar\""
   ]
  },
  {
   "cell_type": "markdown",
   "metadata": {},
   "source": [
    "load  .npy files and plot figures then save them to jpeg format"
   ]
  },
  {
   "cell_type": "code",
   "execution_count": 16,
   "metadata": {},
   "outputs": [
    {
     "ename": "TypeError",
     "evalue": "'NoneType' object is not subscriptable",
     "output_type": "error",
     "traceback": [
      "\u001b[0;31m---------------------------------------------------------------------------\u001b[0m",
      "\u001b[0;31mTypeError\u001b[0m                                 Traceback (most recent call last)",
      "Cell \u001b[0;32mIn[16], line 28\u001b[0m\n\u001b[1;32m     25\u001b[0m     fig,axs \u001b[39m=\u001b[39m plt\u001b[39m.\u001b[39msubplots(nrows\u001b[39m=\u001b[39m\u001b[39m2\u001b[39m,ncols\u001b[39m=\u001b[39m\u001b[39m2\u001b[39m,figsize\u001b[39m=\u001b[39m(\u001b[39m10\u001b[39m,\u001b[39m10\u001b[39m))\n\u001b[1;32m     26\u001b[0m     fig\u001b[39m.\u001b[39msubplots_adjust(wspace\u001b[39m=\u001b[39m\u001b[39m0.2\u001b[39m,hspace\u001b[39m=\u001b[39m\u001b[39m0.3\u001b[39m)\n\u001b[0;32m---> 28\u001b[0m dataset_generator\u001b[39m.\u001b[39;49mradar_data_processor\u001b[39m.\u001b[39;49mplot_range_azimuth_response(\n\u001b[1;32m     29\u001b[0m         sample_idx\u001b[39m=\u001b[39;49msample_idx,\n\u001b[1;32m     30\u001b[0m         ax_cartesian\u001b[39m=\u001b[39;49maxs[\u001b[39m0\u001b[39;49m,\u001b[39m0\u001b[39;49m],\n\u001b[1;32m     31\u001b[0m         ax_spherical\u001b[39m=\u001b[39;49maxs[\u001b[39m1\u001b[39;49m,\u001b[39m0\u001b[39;49m],\n\u001b[1;32m     32\u001b[0m         show\u001b[39m=\u001b[39;49m\u001b[39mFalse\u001b[39;49;00m\n\u001b[1;32m     33\u001b[0m )\n\u001b[1;32m     35\u001b[0m plt\u001b[39m.\u001b[39mshow()\n\u001b[1;32m     37\u001b[0m \u001b[39m#load the lidar data\u001b[39;00m\n",
      "File \u001b[0;32m~/Documents/radar-dev/CPSL_Radar/data_processors/Radar_Data_Processor.py:194\u001b[0m, in \u001b[0;36mRadarDataProcessor.plot_range_azimuth_response\u001b[0;34m(self, sample_idx, ax_cartesian, ax_spherical, show)\u001b[0m\n\u001b[1;32m    191\u001b[0m     ax_spherical \u001b[39m=\u001b[39m axs[\u001b[39m1\u001b[39m]\n\u001b[1;32m    193\u001b[0m \u001b[39m#get the raw ADC data cube\u001b[39;00m\n\u001b[0;32m--> 194\u001b[0m adc_data_cube \u001b[39m=\u001b[39m \u001b[39mself\u001b[39;49m\u001b[39m.\u001b[39;49m_get_raw_ADC_data_cube(sample_idx \u001b[39m+\u001b[39;49m \u001b[39mself\u001b[39;49m\u001b[39m.\u001b[39;49mnum_previous_frames)\n\u001b[1;32m    196\u001b[0m \u001b[39m#compute the frame range-azimuth response\u001b[39;00m\n\u001b[1;32m    197\u001b[0m range_azimuth_response \u001b[39m=\u001b[39m \u001b[39mself\u001b[39m\u001b[39m.\u001b[39m_compute_frame_normalized_range_azimuth_heatmaps(adc_data_cube)\n",
      "File \u001b[0;32m~/Documents/radar-dev/CPSL_Radar/data_processors/Radar_Data_Processor.py:377\u001b[0m, in \u001b[0;36mRadarDataProcessor._get_raw_ADC_data_cube\u001b[0;34m(self, sample_idx)\u001b[0m\n\u001b[1;32m    367\u001b[0m \u001b[39mdef\u001b[39;00m \u001b[39m_get_raw_ADC_data_cube\u001b[39m(\u001b[39mself\u001b[39m,sample_idx:\u001b[39mint\u001b[39m):\n\u001b[1;32m    368\u001b[0m \u001b[39m    \u001b[39m\u001b[39m\"\"\"Get the raw ADC data cube associated with the given data sample\u001b[39;00m\n\u001b[1;32m    369\u001b[0m \n\u001b[1;32m    370\u001b[0m \u001b[39m    Args:\u001b[39;00m\n\u001b[0;32m   (...)\u001b[0m\n\u001b[1;32m    374\u001b[0m \u001b[39m        np.ndarray: the adc data cube indexed by (indexed by [rx channel, sample, chirp])\u001b[39;00m\n\u001b[1;32m    375\u001b[0m \u001b[39m    \"\"\"\u001b[39;00m\n\u001b[0;32m--> 377\u001b[0m     path \u001b[39m=\u001b[39m \u001b[39mself\u001b[39;49m\u001b[39m.\u001b[39;49mradar_data_paths[sample_idx]\n\u001b[1;32m    379\u001b[0m     \u001b[39mif\u001b[39;00m \u001b[39m\"\u001b[39m\u001b[39m.npy\u001b[39m\u001b[39m\"\u001b[39m \u001b[39min\u001b[39;00m path:\n\u001b[1;32m    380\u001b[0m         \u001b[39mreturn\u001b[39;00m np\u001b[39m.\u001b[39mload(path)\n",
      "\u001b[0;31mTypeError\u001b[0m: 'NoneType' object is not subscriptable"
     ]
    },
    {
     "data": {
      "image/png": "[encoded data removed]",
      "text/plain": [
       "<Figure size 1000x1000 with 4 Axes>"
      ]
     },
     "metadata": {},
     "output_type": "display_data"
    }
   ],
   "source": [
    "import os\n",
    "os.chdir(\"..\")\n",
    "import numpy as np\n",
    "import pandas as pd\n",
    "import matplotlib.pyplot as plt\n",
    "\n",
    "#import CPSL Radar Dataset Generator Code\n",
    "from CPSL_Radar.datasets.Dataset_Generator import DatasetGenerator\n",
    "\n",
    "dataset_generator = DatasetGenerator()\n",
    "\n",
    "init_index = 10000\n",
    "\n",
    "for i in range (init_index, init_index + 2):\n",
    "    sample_idx = i\n",
    "\n",
    "    #load the radar data\n",
    "    radar_file_path = os.path.join(dataset_folder,radar_data_folder,\"{}_{}.npy\".format(file_name,sample_idx))\n",
    "    radar_img_path = os.path.join(converted_jpeg_folder,radar_data_folder,\"{}_{}.jpg\".format(file_name,sample_idx))\n",
    "    radar_data = np.load(radar_file_path)\n",
    "\n",
    "    # #visualize the radar data\n",
    "    axs = []\n",
    "    if len(axs) == 0:\n",
    "        fig,axs = plt.subplots(nrows=2,ncols=2,figsize=(10,10))\n",
    "        fig.subplots_adjust(wspace=0.2,hspace=0.3)\n",
    "\n",
    "    dataset_generator.radar_data_processor.plot_range_azimuth_response(\n",
    "            sample_idx=i,\n",
    "            ax_cartesian=axs[0,0],\n",
    "            ax_spherical=axs[1,0],\n",
    "            show=False\n",
    "    )\n",
    "\n",
    "    plt.show()\n",
    "\n",
    "    #load the lidar data\n",
    "    lidar_file_path = os.path.join(dataset_folder,lidar_data_folder,\"{}_{}.npy\".format(file_name,sample_idx))\n",
    "    lidar_img_path = os.path.join(converted_jpeg_folder,lidar_data_folder,\"{}_{}.jpg\".format(file_name,sample_idx))\n",
    "    lidar_data = np.load(lidar_file_path)\n",
    "\n",
    "    # #visualize the lidar data\n",
    "    # fig,ax = plt.subplots()\n",
    "    # ax.imshow(lidar_data,cmap='binary')\n",
    "    # plt.savefig(lidar_img_path)"
   ]
  }
 ],
 "metadata": {
  "kernelspec": {
   "display_name": "radar-dev",
   "language": "python",
   "name": "python3"
  },
  "language_info": {
   "codemirror_mode": {
    "name": "ipython",
    "version": 3
   },
   "file_extension": ".py",
   "mimetype": "text/x-python",
   "name": "python",
   "nbconvert_exporter": "python",
   "pygments_lexer": "ipython3",
   "version": "3.8.17"
  },
  "orig_nbformat": 4
 },
 "nbformat": 4,
 "nbformat_minor": 2
}
